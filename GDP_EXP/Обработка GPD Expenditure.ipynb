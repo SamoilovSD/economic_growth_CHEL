{
 "cells": [
  {
   "cell_type": "code",
   "execution_count": 1,
   "metadata": {},
   "outputs": [],
   "source": [
    "import numpy as np\n",
    "import math\n",
    "import matplotlib.pyplot as plt\n",
    "import matplotlib\n",
    "from scipy import stats\n",
    "from tqdm import tqdm\n",
    "import csv\n",
    "\n",
    "rc = {\"font.family\" : \"serif\", \n",
    "      \"mathtext.fontset\" : \"stix\"}\n",
    "plt.rcParams.update(rc)\n",
    "plt.rcParams[\"font.serif\"] = [\"Times New Roman\"] + plt.rcParams[\"font.serif\"]\n",
    "matplotlib.rcParams.update({'font.size': 14})"
   ]
  },
  {
   "cell_type": "code",
   "execution_count": 2,
   "metadata": {},
   "outputs": [
    {
     "name": "stdout",
     "output_type": "stream",
     "text": [
      "[  2.57   8.86   6.34   2.74   5.67   6.32   7.08   8.43   8.5   10.72\n",
      "  11.98  10.27  -3.32 -14.26  -4.4    6.47   4.25   2.31   1.07   4.\n",
      "   2.37   3.25   4.02   2.02  -3.62]\n",
      "[35.4 35.2 38.  40.9 37.2 34.7 25.  33.8 35.1 34.9 36.6 34.5 38.4 45.2\n",
      " 46.  40.9 38.6 38.2 38.9 38.7 37.4 38.7 38.4 39.4 43.6]\n"
     ]
    }
   ],
   "source": [
    "# Чтение из файла\n",
    "with open(\"data_LTV_GPD.csv\") as file_name:\n",
    "    mas_GPD = np.loadtxt(file_name, delimiter=\",\")\n",
    "\n",
    "print(mas_GPD)\n",
    "\n",
    "with open(\"data_LTV_EXP.csv\") as file_name:\n",
    "    mas_EXP = np.loadtxt(file_name, delimiter=\",\")\n",
    "\n",
    "print(mas_EXP)"
   ]
  },
  {
   "cell_type": "code",
   "execution_count": 3,
   "metadata": {},
   "outputs": [],
   "source": [
    "mas_EXP = np.array(mas_EXP)\n",
    "mas_GPD = np.array(mas_GPD)"
   ]
  },
  {
   "cell_type": "code",
   "execution_count": 4,
   "metadata": {},
   "outputs": [
    {
     "data": {
      "text/plain": [
       "37.748000000000005"
      ]
     },
     "execution_count": 4,
     "metadata": {},
     "output_type": "execute_result"
    }
   ],
   "source": [
    "np.average(mas_EXP)"
   ]
  },
  {
   "cell_type": "code",
   "execution_count": 5,
   "metadata": {},
   "outputs": [
    {
     "data": {
      "text/plain": [
       "25"
      ]
     },
     "execution_count": 5,
     "metadata": {},
     "output_type": "execute_result"
    }
   ],
   "source": [
    "len(mas_EXP)"
   ]
  },
  {
   "cell_type": "code",
   "execution_count": 6,
   "metadata": {},
   "outputs": [],
   "source": [
    "res = stats.linregress(mas_EXP, mas_GPD)"
   ]
  },
  {
   "cell_type": "code",
   "execution_count": 7,
   "metadata": {},
   "outputs": [
    {
     "name": "stdout",
     "output_type": "stream",
     "text": [
      "R-squared: 0.48\n"
     ]
    }
   ],
   "source": [
    "print(f\"R-squared: {res.rvalue**2:.2f}\")"
   ]
  },
  {
   "cell_type": "code",
   "execution_count": 8,
   "metadata": {},
   "outputs": [
    {
     "data": {
      "text/plain": [
       "LinregressResult(slope=-0.9509203846870345, intercept=39.64094268116618, rvalue=-0.6925835376600644, pvalue=0.0001246860827405958, stderr=0.20651266514837552)"
      ]
     },
     "execution_count": 8,
     "metadata": {},
     "output_type": "execute_result"
    }
   ],
   "source": [
    "res"
   ]
  },
  {
   "cell_type": "code",
   "execution_count": null,
   "metadata": {},
   "outputs": [],
   "source": [
    "plt.figure(figsize=(10,6))\n",
    "plt.plot(mas_EXP, mas_GPD, 'o', label='Анализируемые данные')\n",
    "plt.plot(mas_EXP, res.intercept + res.slope*mas_EXP, 'r', label='Аппроксимирующая прямая')\n",
    "plt.plot([0,100],[0,0],c='black')\n",
    "plt.legend()\n",
    "plt.grid()\n",
    "plt.text(max(mas_EXP),2.5,f'$R^{2} = {res.rvalue**2:.2f} $',horizontalalignment='center', verticalalignment='center')\n",
    "plt.text(max(mas_EXP),4.5,f'$y = {res.slope:.2f}x + {res.intercept:.2f} $',horizontalalignment='center', verticalalignment='center')\n",
    "plt.xlim([min(mas_EXP)*0.9, max(mas_EXP)*1.1])\n",
    "plt.ylim([min(mas_GPD)*0.9, max(mas_GPD)*1.4])\n",
    "plt.xlabel('Государственные расходы в % ВВП')\n",
    "plt.ylabel('Темп роста ВВП в %')\n",
    "plt.savefig('LTV',dpi = 600)"
   ]
  },
  {
   "cell_type": "code",
   "execution_count": null,
   "metadata": {},
   "outputs": [],
   "source": []
  }
 ],
 "metadata": {
  "kernelspec": {
   "display_name": "Python 3 (ipykernel)",
   "language": "python",
   "name": "python3"
  },
  "language_info": {
   "codemirror_mode": {
    "name": "ipython",
    "version": 3
   },
   "file_extension": ".py",
   "mimetype": "text/x-python",
   "name": "python",
   "nbconvert_exporter": "python",
   "pygments_lexer": "ipython3",
   "version": "3.9.12"
  }
 },
 "nbformat": 4,
 "nbformat_minor": 4
}
