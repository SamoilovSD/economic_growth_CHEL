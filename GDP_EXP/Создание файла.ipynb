{
 "cells": [
  {
   "cell_type": "code",
   "execution_count": 15,
   "metadata": {},
   "outputs": [],
   "source": [
    "import numpy as np\n",
    "import math\n",
    "import matplotlib.pyplot as plt\n",
    "import matplotlib\n",
    "from scipy.integrate import ode\n",
    "from scipy.optimize import fsolve\n",
    "from scipy.stats import norm\n",
    "from tqdm import tqdm\n",
    "import csv\n",
    "\n",
    "rc = {\"font.family\" : \"serif\", \n",
    "      \"mathtext.fontset\" : \"stix\"}\n",
    "plt.rcParams.update(rc)\n",
    "plt.rcParams[\"font.serif\"] = [\"Times New Roman\"] + plt.rcParams[\"font.serif\"]\n",
    "matplotlib.rcParams.update({'font.size': 14})"
   ]
  },
  {
   "cell_type": "code",
   "execution_count": 16,
   "metadata": {},
   "outputs": [],
   "source": [
    "# mas_t = np.arange(1992,2020)\n",
    "# mas_t"
   ]
  },
  {
   "cell_type": "code",
   "execution_count": 47,
   "metadata": {},
   "outputs": [],
   "source": [
    "mas_EXP = [28.2,30,30.3,31.3,\n",
    "           32.5,34.2,36.1,37.8,37.6,\n",
    "           38.4,40.7,41.3,\n",
    "           43.7,44.5,45.1,44.7,45.2,45.4,\n",
    "           46,46.2,46.1,\n",
    "           46.8,47.8,47.3,47.6,\n",
    "           47.8,47.3,47.5,47.7,\n",
    "           48.2,47.3,47.7,47.6,\n",
    "           48.2,49.1,\n",
    "           30,30.8,32.4,33.7,34.2,\n",
    "           35.5,36.7,36.3,36.7,\n",
    "           38.4,39.7,\n",
    "           43.7,43.9,43.5,43.6,43.6,\n",
    "           44.2,44.4,44.8,45.2,\n",
    "           46.5,47.1,46.7,47.2,\n",
    "           47.5,48.1,48.2,48.3,48.5,48.8,48.9,\n",
    "           51.2,\n",
    "           38.4,43.8,47.2\n",
    "]"
   ]
  },
  {
   "cell_type": "code",
   "execution_count": 48,
   "metadata": {},
   "outputs": [],
   "source": [
    "mas_GPD = [11.7,8.3,8.6,9.2,\n",
    "           8,7.5,6.1,6.6,5.2,\n",
    "           4.6,4.2,4.5,\n",
    "           3.3,3.7,3.1,5.7,3.5,3.6,\n",
    "           5,3.7,2.7,\n",
    "           2.2,4.7,4.2,3.8,\n",
    "           2.7,2.8,2.8,2.5,\n",
    "           2.1,1.9,1.9,1.7,\n",
    "           1.3,0.8,\n",
    "           7.5,7.3,5.7,4.2,4.5,\n",
    "           4.3,5.1,2.6,2.8,\n",
    "           0.3,2.8,\n",
    "           2.3,2.1,1.9,1.5,0.7,\n",
    "           0.7,0.6,0.7,0.6,\n",
    "           1.5,1.5,0.8,0.6,\n",
    "           -5.5,0.1,-1,-0.7,-0.5,-0.7,0.2,\n",
    "           -5.1,\n",
    "           4.5,2.7,1.5\n",
    "]"
   ]
  },
  {
   "cell_type": "code",
   "execution_count": 49,
   "metadata": {},
   "outputs": [
    {
     "data": {
      "text/plain": [
       "(70, 70)"
      ]
     },
     "execution_count": 49,
     "metadata": {},
     "output_type": "execute_result"
    }
   ],
   "source": [
    "len(mas_GPD), len(mas_EXP)"
   ]
  },
  {
   "cell_type": "code",
   "execution_count": 20,
   "metadata": {
    "scrolled": true
   },
   "outputs": [
    {
     "ename": "NameError",
     "evalue": "name 'mas_t' is not defined",
     "output_type": "error",
     "traceback": [
      "\u001b[1;31m---------------------------------------------------------------------------\u001b[0m",
      "\u001b[1;31mNameError\u001b[0m                                 Traceback (most recent call last)",
      "\u001b[1;32m<ipython-input-20-1c87897387af>\u001b[0m in \u001b[0;36m<module>\u001b[1;34m\u001b[0m\n\u001b[1;32m----> 1\u001b[1;33m \u001b[0mplt\u001b[0m\u001b[1;33m.\u001b[0m\u001b[0mplot\u001b[0m\u001b[1;33m(\u001b[0m\u001b[0mmas_t\u001b[0m\u001b[1;33m,\u001b[0m\u001b[0mmas_GPD\u001b[0m\u001b[1;33m)\u001b[0m\u001b[1;33m\u001b[0m\u001b[1;33m\u001b[0m\u001b[0m\n\u001b[0m\u001b[0;32m      2\u001b[0m \u001b[0mplt\u001b[0m\u001b[1;33m.\u001b[0m\u001b[0mgrid\u001b[0m\u001b[1;33m(\u001b[0m\u001b[1;33m)\u001b[0m\u001b[1;33m\u001b[0m\u001b[1;33m\u001b[0m\u001b[0m\n",
      "\u001b[1;31mNameError\u001b[0m: name 'mas_t' is not defined"
     ]
    }
   ],
   "source": [
    "plt.plot(mas_t,mas_GPD)\n",
    "plt.grid()"
   ]
  },
  {
   "cell_type": "code",
   "execution_count": 21,
   "metadata": {},
   "outputs": [
    {
     "ename": "NameError",
     "evalue": "name 'mas_t' is not defined",
     "output_type": "error",
     "traceback": [
      "\u001b[1;31m---------------------------------------------------------------------------\u001b[0m",
      "\u001b[1;31mNameError\u001b[0m                                 Traceback (most recent call last)",
      "\u001b[1;32m<ipython-input-21-c74300a3d98d>\u001b[0m in \u001b[0;36m<module>\u001b[1;34m\u001b[0m\n\u001b[1;32m----> 1\u001b[1;33m \u001b[0mplt\u001b[0m\u001b[1;33m.\u001b[0m\u001b[0mplot\u001b[0m\u001b[1;33m(\u001b[0m\u001b[0mmas_t\u001b[0m\u001b[1;33m,\u001b[0m\u001b[0mmas_EXP\u001b[0m\u001b[1;33m)\u001b[0m\u001b[1;33m\u001b[0m\u001b[1;33m\u001b[0m\u001b[0m\n\u001b[0m\u001b[0;32m      2\u001b[0m \u001b[0mplt\u001b[0m\u001b[1;33m.\u001b[0m\u001b[0mgrid\u001b[0m\u001b[1;33m(\u001b[0m\u001b[1;33m)\u001b[0m\u001b[1;33m\u001b[0m\u001b[1;33m\u001b[0m\u001b[0m\n",
      "\u001b[1;31mNameError\u001b[0m: name 'mas_t' is not defined"
     ]
    }
   ],
   "source": [
    "plt.plot(mas_t,mas_EXP)\n",
    "plt.grid()"
   ]
  },
  {
   "cell_type": "code",
   "execution_count": 50,
   "metadata": {},
   "outputs": [],
   "source": [
    "np.savetxt('data_GER_GPD.csv',mas_GPD,delimiter=\";\")\n",
    "np.savetxt('data_GER_EXP.csv',mas_EXP,delimiter=\";\")"
   ]
  },
  {
   "cell_type": "code",
   "execution_count": null,
   "metadata": {},
   "outputs": [],
   "source": []
  }
 ],
 "metadata": {
  "kernelspec": {
   "display_name": "Python 3",
   "language": "python",
   "name": "python3"
  },
  "language_info": {
   "codemirror_mode": {
    "name": "ipython",
    "version": 3
   },
   "file_extension": ".py",
   "mimetype": "text/x-python",
   "name": "python",
   "nbconvert_exporter": "python",
   "pygments_lexer": "ipython3",
   "version": "3.8.5"
  }
 },
 "nbformat": 4,
 "nbformat_minor": 4
}
